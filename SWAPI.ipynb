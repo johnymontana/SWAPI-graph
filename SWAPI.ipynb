{
 "cells": [
  {
   "cell_type": "code",
   "execution_count": 76,
   "metadata": {
    "collapsed": true
   },
   "outputs": [],
   "source": [
    "from py2neo import Graph\n",
    "import requests"
   ]
  },
  {
   "cell_type": "code",
   "execution_count": 77,
   "metadata": {
    "collapsed": false
   },
   "outputs": [],
   "source": [
    "# Connect to Neo4j instance\n",
    "graph = Graph(\"http://52.2.207.222/db/data\")"
   ]
  },
  {
   "cell_type": "code",
   "execution_count": 184,
   "metadata": {
    "collapsed": true
   },
   "outputs": [],
   "source": [
    "# CYPHER CREATE STATEMENTS\n",
    "\n",
    "MOVIE_CONSTRAINT = '''\n",
    "    CREATE CONSTRAINT ON (f:Film) ASSERT f.url IS UNIQUE\n",
    "'''\n",
    "\n",
    "CREATE_MOVIE_QUERY = '''\n",
    "MERGE (f:Film {url: {url}})\n",
    "SET f.created = {created},\n",
    "    f.edited = {edited},\n",
    "    f.episode_id = toInt({episode_id}),\n",
    "    f.opening_crawl = {opening_crawl},\n",
    "    f.release_date = {release_date},\n",
    "    f.title = {title}\n",
    "WITH f\n",
    "UNWIND split({director}, \",\") AS director\n",
    "MERGE (d:Director {name: director})\n",
    "CREATE UNIQUE (f)-[:DIRECTED_BY]->(d)\n",
    "WITH f\n",
    "UNWIND split({producer}, \",\") AS producer\n",
    "MERGE (p:Producer {name: producer})\n",
    "CREATE UNIQUE (f)-[:PRODUCED_BY]->(p)\n",
    "WITH f\n",
    "UNWIND {characters} AS character\n",
    "MERGE (c:Person {url: character})\n",
    "CREATE UNIQUE (c)-[:APPEARS_IN]->(f)\n",
    "WITH f\n",
    "UNWIND {planets} AS planet\n",
    "MERGE (p:Planet {url: planet})\n",
    "CREATE UNIQUE (f)-[:TAKES_PLACE_ON]->(p)\n",
    "WITH f\n",
    "UNWIND {species} AS specie\n",
    "MERGE (s:Species {url: specie})\n",
    "CREATE UNIQUE (s)-[:APPEARS_IN]->(f)\n",
    "WITH f\n",
    "UNWIND {starships} AS starship\n",
    "MERGE (s:Starship {url: starship})\n",
    "CREATE UNIQUE (s)-[:APPEARS_IN]->(f)\n",
    "WITH f\n",
    "UNWIND {vehicles} AS vehicle\n",
    "MERGE (v:Vehicle {url: vehicle})\n",
    "CREATE UNIQUE (v)-[:APPEARS_IN]->(f)\n",
    "'''\n",
    "\n",
    "FIND_NEW_PERSON_QUERY = '''\n",
    "MATCH (p:Person) WHERE size(keys(p)) < 2 \n",
    "WITH rand() as r, p ORDER BY r LIMIT 1\n",
    "WITH p\n",
    "RETURN p.url AS url LIMIT 1\n",
    "'''\n",
    "\n",
    "FIND_NEW_PLANET_QUERY = '''\n",
    "MATCH (p:Planet) WHERE size(keys(p)) < 2 \n",
    "WITH rand() as r, p ORDER BY r LIMIT 1\n",
    "WITH p\n",
    "RETURN p.url AS url LIMIT 1\n",
    "'''\n",
    "\n",
    "FIND_NEW_SPECIES_QUERY = '''\n",
    "MATCH (s:Species) WHERE size(keys(s)) < 2\n",
    "WITH rand() AS r, s ORDER By r LIMIT 1\n",
    "WITH s\n",
    "RETURN s.url AS url LIMIT 1\n",
    "'''\n",
    "\n",
    "FIND_NEW_VEHICLE_QUERY = '''\n",
    "MATCH (s:Vehicle) WHERE size(keys(s)) < 2\n",
    "WITH rand() AS r, s ORDER By r LIMIT 1\n",
    "WITH s\n",
    "RETURN s.url AS url LIMIT 1\n",
    "'''\n",
    "\n",
    "FIND_NEW_STARSHIP_QUERY = '''\n",
    "MATCH (s:Starship) WHERE size(keys(s)) < 2\n",
    "WITH rand() AS r, s ORDER By r LIMIT 1\n",
    "WITH s\n",
    "RETURN s.url AS url LIMIT 1\n",
    "'''\n",
    "\n",
    "CREATE_PERSON_QUERY = '''\n",
    "MERGE (p:Person {url: {url}})\n",
    "SET p.birth_year = {birth_year},\n",
    "    p.created = {created},\n",
    "    p.edited = {edited},\n",
    "    p.eye_color = {eye_color},\n",
    "    p.gender = {gender},\n",
    "    p.hair_color = {hair_color},\n",
    "    p.height = {height},\n",
    "    p.mass = {mass},\n",
    "    p.name = {name},\n",
    "    p.skin_color = {skin_color}\n",
    "WITH p\n",
    "MERGE (home:Planet {url: {homeworld}})\n",
    "CREATE UNIQUE (home)<-[:IS_FROM]-(p)\n",
    "WITH p\n",
    "UNWIND {species} AS specie\n",
    "MERGE (s:Species {url: specie})\n",
    "CREATE UNIQUE (p)-[:IS_SPECIES]->(s)\n",
    "WITH p\n",
    "UNWIND {starships} AS starship\n",
    "MERGE (s:Starship {url: starship})\n",
    "CREATE UNIQUE (p)-[:PILOTS]->(s)\n",
    "WITH p\n",
    "UNWIND {vehicles} AS vehicle\n",
    "MERGE (v:Vehicle {url: vehicle})\n",
    "CREATE UNIQUE (p)-[:PILOTS]->(v)\n",
    "'''\n",
    "\n",
    "CREATE_PLANET_QUERY = '''\n",
    "MERGE (p:Planet {url: {url}})\n",
    "SET p.created = {created},\n",
    "    p.diameter = {diameter},\n",
    "    p.edited = {edited},\n",
    "    p.gravity = {gravity},\n",
    "    p.name = {name},\n",
    "    p.orbital_period = {orbital_period},\n",
    "    p.population = {population},\n",
    "    p.rotation_period = {rotation_period},\n",
    "    p.surface_water = {surface_water}\n",
    "WITH p\n",
    "UNWIND split({climate}, \",\") AS c\n",
    "MERGE (cli:Climate {type: c})\n",
    "CREATE UNIQUE (p)-[:HAS_CLIMATE]->(cli)\n",
    "WITH p\n",
    "UNWIND split({terrain}, \",\") AS t\n",
    "MERGE (ter:Terrain {type: t})\n",
    "CREATE UNIQUE (p)-[:HAS_TERRAIN]->(ter)\n",
    "'''\n",
    "\n",
    "CREATE_SPECIES_QUERY = '''\n",
    "MERGE (s:Species {url: {url}})\n",
    "SET s.name = {name},\n",
    "    s.language = {language},\n",
    "    s.average_height = {average_height},\n",
    "    s.average_lifespan = {average_lifespan},\n",
    "    s.classification = {classification},\n",
    "    s.created = {created},\n",
    "    s.designation = {designation},\n",
    "    s.eye_colors = {eye_colors},\n",
    "    s.hair_colors = {hair_colors},\n",
    "    s.skin_colors = {skin_colors}\n",
    "'''\n",
    "\n",
    "CREATE_VEHICLE_QUERY = '''\n",
    "MERGE (v:Vehicle {url: {url}})\n",
    "SET v.cargo_capacity = {cargo_capacity},\n",
    "    v.consumables = {consumables},\n",
    "    v.cost_in_credits = {cost_in_credits},\n",
    "    v.created = {created},\n",
    "    v.crew = {crew},\n",
    "    v.edited = {edited},\n",
    "    v.length = {length},\n",
    "    v.max_atmosphering_speed = {max_atmosphering_speed},\n",
    "    v.model = {model},\n",
    "    v.name = {name},\n",
    "    v.passengers = {passengers}\n",
    "MERGE (m:Manufacturer {name: {manufacturer}})\n",
    "CREATE UNIQUE (v)-[:MANUFACTURED_BY]->(m)\n",
    "WITH v\n",
    "MERGE (c:VehicleClass {type: {vehicle_class}})\n",
    "CREATE UNIQUE (v)-[:IS_CLASS]->(c)\n",
    "'''\n",
    "\n",
    "CREATE_STARSHIP_QUERY = '''\n",
    "MERGE (s:Starship {url: {url}})\n",
    "SET s.MGLT = {MGLT},\n",
    "    s.consumables = {consumables},\n",
    "    s.cost_in_credits = {cost_in_credits},\n",
    "    s.created = {created},\n",
    "    s.crew = {crew},\n",
    "    s.edited = {edited},\n",
    "    s.hyperdrive_rating = {hyperdrive_rating},\n",
    "    s.length = {length},\n",
    "    s.max_atmosphering_speed = {max_atmosphering_speed},\n",
    "    s.model = {model},\n",
    "    s.name = {name},\n",
    "    s.passengers = {passengers}\n",
    "MERGE (m:Manufacturer {name: {manufacturer}})\n",
    "CREATE UNIQUE (s)-[:MANUFACTURED_BY]->(m)\n",
    "WITH s\n",
    "MERGE (c:StarshipClass {type: {starship_class}})\n",
    "CREATE UNIQUE (s)-[:IS_CLASS]->(c)\n",
    "'''"
   ]
  },
  {
   "cell_type": "code",
   "execution_count": 79,
   "metadata": {
    "collapsed": false
   },
   "outputs": [
    {
     "data": {
      "text/plain": [
       "{'films': 'http://swapi.co/api/films/',\n",
       " 'people': 'http://swapi.co/api/people/',\n",
       " 'planets': 'http://swapi.co/api/planets/',\n",
       " 'species': 'http://swapi.co/api/species/',\n",
       " 'starships': 'http://swapi.co/api/starships/',\n",
       " 'vehicles': 'http://swapi.co/api/vehicles/'}"
      ]
     },
     "execution_count": 79,
     "metadata": {},
     "output_type": "execute_result"
    }
   ],
   "source": [
    "# Exploring the API\n",
    "r = requests.get(\"http://swapi.co/api/\")\n",
    "r.json()"
   ]
  },
  {
   "cell_type": "code",
   "execution_count": 191,
   "metadata": {
    "collapsed": false
   },
   "outputs": [],
   "source": [
    "for i in range(1,7):\n",
    "    url = \"http://swapi.co/api/films/\" + str(i) + \"/\"\n",
    "    #print(url)\n",
    "    r = requests.get(url)\n",
    "    params = r.json()\n",
    "    #print(params)\n",
    "    graph.cypher.execute(CREATE_MOVIE_QUERY, params)"
   ]
  },
  {
   "cell_type": "code",
   "execution_count": 1,
   "metadata": {
    "collapsed": false
   },
   "outputs": [],
   "source": [
    "while True:\n",
    "    result = graph.cypher.execute(FIND_NEW_PERSON_QUERY)\n",
    "    #print(result)\n",
    "    url = result.one\n",
    "    #print(url)\n",
    "    r = requests.get(url)\n",
    "    params = r.json()\n",
    "    graph.cypher.execute(CREATE_PERSON_QUERY, params)"
   ]
  },
  {
   "cell_type": "code",
   "execution_count": 2,
   "metadata": {
    "collapsed": false
   },
   "outputs": [],
   "source": [
    "while True:\n",
    "    result = graph.cypher.execute(FIND_NEW_PLANET_QUERY)\n",
    "    url = result.one\n",
    "    r = requests.get(url)\n",
    "    params = r.json()\n",
    "    graph.cypher.execute(CREATE_PLANET_QUERY, params)"
   ]
  },
  {
   "cell_type": "code",
   "execution_count": 3,
   "metadata": {
    "collapsed": false
   },
   "outputs": [],
   "source": [
    "while True:\n",
    "    result = graph.cypher.execute(FIND_NEW_SPECIES_QUERY)\n",
    "    url = result.one\n",
    "    r = requests.get(url)\n",
    "    params = r.json()\n",
    "    graph.cypher.execute(CREATE_SPECIES_QUERY, params)"
   ]
  },
  {
   "cell_type": "code",
   "execution_count": 4,
   "metadata": {
    "collapsed": false
   },
   "outputs": [],
   "source": [
    "while True:\n",
    "    result = graph.cypher.execute(FIND_NEW_VEHICLE_QUERY)\n",
    "    url = result.one\n",
    "    r = requests.get(url)\n",
    "    params = r.json()\n",
    "    graph.cypher.execute(CREATE_VEHICLE_QUERY, params)\n"
   ]
  },
  {
   "cell_type": "code",
   "execution_count": 5,
   "metadata": {
    "collapsed": false
   },
   "outputs": [],
   "source": [
    "while True:\n",
    "    result = graph.cypher.execute(FIND_NEW_STARSHIP_QUERY)\n",
    "    url = result.one\n",
    "    r = requests.get(url)\n",
    "    params = r.json()\n",
    "    graph.cypher.execute(CREATE_STARSHIP_QUERY, params)\n"
   ]
  },
  {
   "cell_type": "code",
   "execution_count": null,
   "metadata": {
    "collapsed": true
   },
   "outputs": [],
   "source": []
  }
 ],
 "metadata": {
  "kernelspec": {
   "display_name": "Python 3",
   "language": "python",
   "name": "python3"
  },
  "language_info": {
   "codemirror_mode": {
    "name": "ipython",
    "version": 3
   },
   "file_extension": ".py",
   "mimetype": "text/x-python",
   "name": "python",
   "nbconvert_exporter": "python",
   "pygments_lexer": "ipython3",
   "version": "3.5.0"
  }
 },
 "nbformat": 4,
 "nbformat_minor": 0
}
